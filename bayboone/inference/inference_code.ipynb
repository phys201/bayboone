{
 "cells": [
  {
   "cell_type": "markdown",
   "id": "external-borough",
   "metadata": {},
   "source": [
    "This notebook should set up the basic (preliminary) generative model for our data, and use it to fit teh parameters $\\Delta m^2$ and $sin^2(2\\theta)$ from the neutrino oscillation formula"
   ]
  },
  {
   "cell_type": "code",
   "execution_count": 6,
   "id": "successful-andorra",
   "metadata": {},
   "outputs": [],
   "source": [
    "# Import statements - only things we're actively using!\n",
    "import numpy as np\n",
    "import pandas as pd\n",
    "import pymc3 as pm"
   ]
  },
  {
   "cell_type": "markdown",
   "id": "ruled-transsexual",
   "metadata": {},
   "source": [
    "Useful constants\n",
    "values of ss2t, dms to try:\n",
    "-  LSND best fit (ss2t = 0.003, dms = 1.2)\n",
    "-  Giunti best fit (ss2t = 0.0011, dms = 1.7)\n",
    "-  Machado best fit (ss2t = 0.0038, dms = 1.3)"
   ]
  },
  {
   "cell_type": "code",
   "execution_count": 7,
   "id": "short-extent",
   "metadata": {},
   "outputs": [],
   "source": [
    "# Adapted from week 07 notebook\n",
    "\n",
    "def oscillation_model(fake_data):\n",
    "    uncertainty = 1.0 \n",
    "    #This is chosen arbitrarily - we'll re-evaluate to get a better value when we work on making our model reflective of reality\n",
    "\n",
    "    # reshape data so it behaves when pymc3 tests multiple parameter values at once\n",
    "    L = fake_data['L'].values[:, np.newaxis]\n",
    "    E = fake_data['E'].values[:, np.newaxis]\n",
    "    num_neutrinos = fake_data['N_numu']\n",
    "    num_nue = fake_data['N_nue']\n",
    "\n",
    "    # The following two lines set up the model, which is a Python object.  \n",
    "    # \"with peaks_model\" is called a context manager: It provides a convenient way to set up the object. \n",
    "    osc_model = pm.Model()\n",
    "    with osc_model:\n",
    "    \n",
    "        # Priors for unknown model parameters\n",
    "        ss2t = pm.Uniform('sin^2_2theta', 0, 1)\n",
    "        dms = pm.Uniform('delta_m^2', 0, 2)  \n",
    "        \n",
    "        # Expected value from theory \n",
    "        P = pm.Deterministic('prediction', ss2t*(np.sin(dms*(1.27*L)/E))**2)\n",
    "        \n",
    "        # Likelihood of observations\n",
    "        # Oscillation from numu to nue is like a weighted coin toss, so we use the binomial distribution\n",
    "        measurements = pm.Binomial('nue_Flux', n=num_neutrinos, p=P, observed=num_nue)\n",
    "        \n",
    "    return osc_model\n",
    "\n",
    "def fit_model(data, initial_guess = {'sin^2_2theta':0.1, 'delta_m^2':1}):\n",
    "    \n",
    "    uncertainty = 0.3\n",
    "    osc_model = oscillation_model(data)\n",
    "    best_fit, scipy_output = pm.find_MAP(model=osc_model, start = initial_guess, return_raw=True)    \n",
    "    covariance_matrix = np.flip(scipy_output.hess_inv.todense()/uncertainty)\n",
    "    \n",
    "    return best_fit, covariance_matrix\n",
    "\n",
    "def chisq(fake_data, prediction):\n",
    "    '''\n",
    "    Finds chi-squared for a given model\n",
    "    \n",
    "    Parameters\n",
    "    --------\n",
    "    prediction: numpy array\n",
    "        the prediction from best-fit of for a given model \n",
    "        (the best fit means this gives the minimum chi squared)\n",
    "    x_vals: numpy array\n",
    "        the y values for our data\n",
    "    \n",
    "    Returns\n",
    "    --------\n",
    "    float:\n",
    "        the chi-squared\n",
    "    '''   \n",
    "    uncertainty = 0.3\n",
    "    observed = fake_data['N_nue']\n",
    "    res_squared = np.power(prediction-observed, 2)\n",
    "    chisq = np.sum(res_squared/uncertainty**2)\n",
    "    \n",
    "    return chisq\n",
    "                         \n"
   ]
  },
  {
   "cell_type": "code",
   "execution_count": 17,
   "id": "faced-blade",
   "metadata": {},
   "outputs": [],
   "source": [
    "def print_fit_vals(bf, cov):\n",
    "    \n",
    "    '''\n",
    "    literally just prints the best fit values and their uncertainties nicely\n",
    "    \n",
    "    Inputs:\n",
    "    bf: best fit from the model\n",
    "    cov: covariance matrix from the model\n",
    "    '''\n",
    "    points = len(cov[0])\n",
    "    values = np.zeros(points)\n",
    "    rows = np.full(points, '00000000000000')\n",
    "    uncertainty = np.zeros(points)\n",
    "    \n",
    "    values[0] = bf['sin^2_2theta']\n",
    "    rows[0] = 'sin^2_2theta'\n",
    "    uncertainty[0] = np.sqrt(cov[0][0])\n",
    "\n",
    "    values[1] = bf['delta_m^2']\n",
    "    rows[1] = 'delta_m^2'\n",
    "    uncertainty[1] = np.sqrt(cov[1][1])\n",
    "    \n",
    "    vals = { 'value': values}\n",
    "    fit_values = pd.DataFrame(vals, index = rows)\n",
    "    fit_values['uncertainty'] = uncertainty\n",
    "\n",
    "    return fit_values"
   ]
  },
  {
   "cell_type": "markdown",
   "id": "functioning-group",
   "metadata": {},
   "source": [
    "The cells below are for testing the code in this notebook independent of the rest of the package"
   ]
  },
  {
   "cell_type": "code",
   "execution_count": 4,
   "id": "invalid-image",
   "metadata": {},
   "outputs": [],
   "source": [
    "#Create some very fake data for testing purposes\n",
    "test_data = pd.DataFrame({ 'L': [450, 451, 452, 453, 454, 455, 456, 457, 458, 459, 460, 461, 462, 463, 464, 465, 467, 468, 469, 470],\n",
    "                          'E': [1, 1, 2, 2, 1.5, 1.5, 0.8, 0.8, 0.9, 0.9, 1, 1, 2, 2, 1.5, 1.5, 0.8, 0.8, 0.9, 0.9],\n",
    "                          'N_numu': 20, 'N_nue': 1}) #N_numu and N_nue don't need to be integers\n"
   ]
  },
  {
   "cell_type": "code",
   "execution_count": 9,
   "id": "preceding-yukon",
   "metadata": {},
   "outputs": [
    {
     "data": {
      "text/latex": [
       "$$\n",
       "                \\begin{array}{rcl}\n",
       "                \\text{sin^2_2theta_interval__} &\\sim & \\text{TransformedDistribution}\\\\\\text{delta_m^2_interval__} &\\sim & \\text{TransformedDistribution}\\\\\\text{sin^2_2theta} &\\sim & \\text{Uniform}\\\\\\text{delta_m^2} &\\sim & \\text{Uniform}\\\\\\text{prediction} &\\sim & \\text{Deterministic}\\\\\\text{nue_Flux} &\\sim & \\text{Binomial}\n",
       "                \\end{array}\n",
       "                $$"
      ],
      "text/plain": [
       "<pymc3.model.Model at 0x7fc1cf9baac0>"
      ]
     },
     "execution_count": 9,
     "metadata": {},
     "output_type": "execute_result"
    }
   ],
   "source": [
    "oscillation_model(test_data)"
   ]
  },
  {
   "cell_type": "code",
   "execution_count": 10,
   "id": "urban-objective",
   "metadata": {},
   "outputs": [
    {
     "data": {
      "text/html": [
       "\n",
       "    <div>\n",
       "        <style>\n",
       "            /* Turns off some styling */\n",
       "            progress {\n",
       "                /* gets rid of default border in Firefox and Opera. */\n",
       "                border: none;\n",
       "                /* Needs to be in here for Safari polyfill so background images work as expected. */\n",
       "                background-size: auto;\n",
       "            }\n",
       "            .progress-bar-interrupted, .progress-bar-interrupted::-webkit-progress-bar {\n",
       "                background: #F44336;\n",
       "            }\n",
       "        </style>\n",
       "      <progress value='29' class='' max='29' style='width:300px; height:20px; vertical-align: middle;'></progress>\n",
       "      100.00% [29/29 00:00<00:00 logp = -498.02, ||grad|| = 31,206]\n",
       "    </div>\n",
       "    "
      ],
      "text/plain": [
       "<IPython.core.display.HTML object>"
      ]
     },
     "metadata": {},
     "output_type": "display_data"
    },
    {
     "name": "stdout",
     "output_type": "stream",
     "text": [
      "\n"
     ]
    }
   ],
   "source": [
    "best_fit, cov = fit_model(test_data)"
   ]
  },
  {
   "cell_type": "code",
   "execution_count": 15,
   "id": "precise-consequence",
   "metadata": {},
   "outputs": [
    {
     "data": {
      "text/plain": [
       "[<matplotlib.lines.Line2D at 0x7fc1bab8a670>]"
      ]
     },
     "execution_count": 15,
     "metadata": {},
     "output_type": "execute_result"
    },
    {
     "data": {
      "image/png": "[encoded data removed]",
      "text/plain": [
       "<Figure size 432x288 with 1 Axes>"
      ]
     },
     "metadata": {
      "needs_background": "light"
     },
     "output_type": "display_data"
    }
   ],
   "source": [
    "test_data.plot(x='L', y='E', kind='scatter', yerr=0.5)\n",
    "x = np.linspace(min(test_data['L']), max(test_data['L']), 20)\n",
    "\n",
    "import matplotlib.pyplot as plt\n",
    "plt.plot(x, best_fit['prediction'], '-k', color='red')"
   ]
  },
  {
   "cell_type": "code",
   "execution_count": 18,
   "id": "bigger-pricing",
   "metadata": {},
   "outputs": [
    {
     "data": {
      "text/html": [
       "<div>\n",
       "<style scoped>\n",
       "    .dataframe tbody tr th:only-of-type {\n",
       "        vertical-align: middle;\n",
       "    }\n",
       "\n",
       "    .dataframe tbody tr th {\n",
       "        vertical-align: top;\n",
       "    }\n",
       "\n",
       "    .dataframe thead th {\n",
       "        text-align: right;\n",
       "    }\n",
       "</style>\n",
       "<table border=\"1\" class=\"dataframe\">\n",
       "  <thead>\n",
       "    <tr style=\"text-align: right;\">\n",
       "      <th></th>\n",
       "      <th>value</th>\n",
       "      <th>uncertainty</th>\n",
       "    </tr>\n",
       "  </thead>\n",
       "  <tbody>\n",
       "    <tr>\n",
       "      <th>sin^2_2theta</th>\n",
       "      <td>0.080801</td>\n",
       "      <td>0.821210</td>\n",
       "    </tr>\n",
       "    <tr>\n",
       "      <th>delta_m^2</th>\n",
       "      <td>0.836597</td>\n",
       "      <td>0.053899</td>\n",
       "    </tr>\n",
       "  </tbody>\n",
       "</table>\n",
       "</div>"
      ],
      "text/plain": [
       "                 value  uncertainty\n",
       "sin^2_2theta  0.080801     0.821210\n",
       "delta_m^2     0.836597     0.053899"
      ]
     },
     "execution_count": 18,
     "metadata": {},
     "output_type": "execute_result"
    }
   ],
   "source": [
    "print_fit_vals(best_fit, cov)"
   ]
  },
  {
   "cell_type": "code",
   "execution_count": null,
   "id": "severe-architect",
   "metadata": {},
   "outputs": [],
   "source": []
  }
 ],
 "metadata": {
  "kernelspec": {
   "display_name": "Python 3",
   "language": "python",
   "name": "python3"
  },
  "language_info": {
   "codemirror_mode": {
    "name": "ipython",
    "version": 3
   },
   "file_extension": ".py",
   "mimetype": "text/x-python",
   "name": "python",
   "nbconvert_exporter": "python",
   "pygments_lexer": "ipython3",
   "version": "3.9.2"
  }
 },
 "nbformat": 4,
 "nbformat_minor": 5
}
