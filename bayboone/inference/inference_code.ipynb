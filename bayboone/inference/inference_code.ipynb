{
 "cells": [
  {
   "cell_type": "markdown",
   "id": "sexual-class",
   "metadata": {},
   "source": [
    "This notebook should set up the basic (preliminary) generative model for our data, and use it to fit teh parameters $\\Delta m^2$ and $sin^2(2\\theta)$ from the neutrino oscillation formula"
   ]
  },
  {
   "cell_type": "code",
   "execution_count": 3,
   "id": "eleven-emphasis",
   "metadata": {},
   "outputs": [],
   "source": [
    "# Import statements - only things we're actively using!\n",
    "import numpy as np\n",
    "import pandas as pd"
   ]
  },
  {
   "cell_type": "markdown",
   "id": "popular-honor",
   "metadata": {},
   "source": [
    "Useful constants\n",
    "values of ss2t, dms to try:\n",
    "-  LSND best fit (ss2t = 0.003, dms = 1.2)\n",
    "-  Giunti best fit (ss2t = 0.0011, dms = 1.7)\n",
    "-  Machado best fit (ss2t = 0.0038, dms = 1.3)"
   ]
  },
  {
   "cell_type": "code",
   "execution_count": 4,
   "id": "adapted-cuisine",
   "metadata": {},
   "outputs": [],
   "source": [
    "# Adapted from week 07 notebook\n",
    "\n",
    "def oscillation_model(fake_data):\n",
    "    uncertainty = 1.0 \n",
    "    #This is chosen arbitrarily - we'll re-evaluate to get a better value when we work on making our model reflective of reality\n",
    "\n",
    "    # reshape data so it behaves when pymc3 tests multiple parameter values at once\n",
    "    L = fake_data['L'].values[:, np.newaxis]\n",
    "    E = fake_data['E'].values[:, np.newaxis]\n",
    "    num_neutrinos = fake_data['N_numu']\n",
    "    num_nue = fake_data['N_nue']\n",
    "\n",
    "    # The following two lines set up the model, which is a Python object.  \n",
    "    # \"with peaks_model\" is called a context manager: It provides a convenient way to set up the object. \n",
    "    osc_model = pm.Model()\n",
    "    with osc_model:\n",
    "    \n",
    "        # Priors for unknown model parameters\n",
    "        ss2t = pm.Flat('sin^2_2theta')\n",
    "        dms = pm.Flat('delta_m^2')   \n",
    "            \n",
    "        # Expected value from theory \n",
    "        P = pm.Deterministic('prediction', ss2t*(sin(dms*(1.27*L)/E))**2)\n",
    "        \n",
    "        # Likelihood of observations\n",
    "        # Oscillation from numu to nue is like a weighted coin toss, so we use the binomial distribution\n",
    "        measurements = pm.Binomial('nue_Flux', n=num_nuetrinos, p=P, observed=num_nue)\n",
    "        \n",
    "    return osc_model\n",
    "\n",
    "def fit_model(initial_guess = {'\\sin^2_2theta':0.1, 'dms':1}):\n",
    "    \n",
    "    uncertainty = 0.3\n",
    "    osc_model = oscillation_model()\n",
    "    best_fit, scipy_output = pm.find_MAP(model=osc_model, start = initial_guess, return_raw=True)    \n",
    "    covariance_matrix = np.flip(scipy_output.hess_inv.todense()/uncertainty)\n",
    "    \n",
    "    return best_fit, covariance_matrix\n",
    "\n",
    "def chisq(fake_data, prediction):\n",
    "    '''\n",
    "    Finds chi-squared for a given model\n",
    "    \n",
    "    Parameters\n",
    "    --------\n",
    "    prediction: numpy array\n",
    "        the prediction from best-fit of for a given model \n",
    "        (the best fit means this gives the minimum chi squared)\n",
    "    x_vals: numpy array\n",
    "        the y values for our data\n",
    "    \n",
    "    Returns\n",
    "    --------\n",
    "    float:\n",
    "        the chi-squared\n",
    "    '''   \n",
    "    uncertainty = 0.3\n",
    "    observed = fake_data['N_nue']\n",
    "    res_squared = np.power(prediction-observed, 2)\n",
    "    chisq = np.sum(res_squared/uncertainty**2)\n",
    "    \n",
    "    return chisq\n",
    "                         \n"
   ]
  },
  {
   "cell_type": "code",
   "execution_count": null,
   "id": "practical-placement",
   "metadata": {},
   "outputs": [],
   "source": [
    "def print_fit_vals(bf, cov):\n",
    "    \n",
    "    '''\n",
    "    literally just prints the best fit values and their uncertainties nicely\n",
    "    \n",
    "    Inputs:\n",
    "    bf: best fit from the model\n",
    "    cov: covariance matrix from the model\n",
    "    '''\n",
    "    points = len(cov[0])\n",
    "    values = np.zeros(points)\n",
    "    rows = np.full(points, '00000000000000')\n",
    "    uncertainty = np.zeros(points)\n",
    "    \n",
    "    values[0] = bf['sin^2_2theta']\n",
    "    rows[0] = 'sin^2_2theta'\n",
    "    uncertainty[0] = np.sqrt(cov[0][0])\n",
    "\n",
    "    values[1] = bf['delta_m^2']\n",
    "    rows[1] = 'delta_m^2'\n",
    "    uncertainty[1] = np.sqrt(cov[1][1])\n",
    "    \n",
    "    vals = { 'value': values}\n",
    "    fit_values = pd.DataFrame(vals, index = rows)\n",
    "    fit_values['uncertainty'] = uncertainty\n",
    "\n",
    "    return fit_values"
   ]
  }
 ],
 "metadata": {
  "kernelspec": {
   "display_name": "Python 3",
   "language": "python",
   "name": "python3"
  },
  "language_info": {
   "codemirror_mode": {
    "name": "ipython",
    "version": 3
   },
   "file_extension": ".py",
   "mimetype": "text/x-python",
   "name": "python",
   "nbconvert_exporter": "python",
   "pygments_lexer": "ipython3",
   "version": "3.7.8"
  }
 },
 "nbformat": 4,
 "nbformat_minor": 5
}
