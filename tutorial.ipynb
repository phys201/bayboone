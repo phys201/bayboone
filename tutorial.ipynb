{
 "cells": [
  {
   "cell_type": "markdown",
   "metadata": {},
   "source": [
    "# example package Tutorial\n",
    "\n",
    "This package only has two objects: a log-uniform prior and a log-Jeffery's prior.\n",
    "\n",
    "Recall,\n",
    "\n",
    "$$p(x) = \\frac{1}{x_{\\mathrm{max}}-x_{\\mathrm{min}}}$$ (Uniform Prior)\n",
    "\n",
    "$$p(x) = \\frac{1}{x \\,\\ln\\left(x_{\\mathrm{max}}/x_{\\mathrm{min}}\\right)}$$ (Jeffery's Prior)\n",
    "\n",
    "Here's how to use them:"
   ]
  },
  {
   "cell_type": "code",
   "execution_count": 61,
   "metadata": {
    "collapsed": false,
    "jupyter": {
     "outputs_hidden": false
    }
   },
   "outputs": [],
   "source": [
    "import numpy as np\n",
    "import matplotlib.pyplot as plt\n",
    "import pandas as pd\n",
    "from bayboone.inference.prior import JefferysPrior, UniformPrior\n",
    "from bayboone.data_io import generative_model"
   ]
  },
  {
   "cell_type": "markdown",
   "metadata": {},
   "source": [
    "Instantize a Prior object with it's bounds:"
   ]
  },
  {
   "cell_type": "code",
   "execution_count": 58,
   "metadata": {},
   "outputs": [],
   "source": [
    "prior1 = UniformPrior(0, 10)\n",
    "prior2 = JefferysPrior(1e-5, 1e5)"
   ]
  },
  {
   "cell_type": "markdown",
   "metadata": {},
   "source": [
    "Then you can call its logp method:"
   ]
  },
  {
   "cell_type": "code",
   "execution_count": 59,
   "metadata": {
    "collapsed": false,
    "jupyter": {
     "outputs_hidden": false
    }
   },
   "outputs": [
    {
     "name": "stdout",
     "output_type": "stream",
     "text": [
      "0.09999999999999998\n",
      "0.0\n"
     ]
    }
   ],
   "source": [
    "print(np.exp(prior1.logp(5))) # 1/10 because of bounds\n",
    "print(np.exp(prior1.logp(-3))) # 0 because it's out of bounds"
   ]
  },
  {
   "cell_type": "markdown",
   "metadata": {},
   "source": [
    "You can even call the Prior in-line with instantization if you don't want to make a new object:"
   ]
  },
  {
   "cell_type": "code",
   "execution_count": 60,
   "metadata": {
    "collapsed": false,
    "jupyter": {
     "outputs_hidden": false
    }
   },
   "outputs": [
    {
     "data": {
      "text/plain": [
       "array(-2.99573227)"
      ]
     },
     "execution_count": 60,
     "metadata": {},
     "output_type": "execute_result"
    }
   ],
   "source": [
    "UniformPrior(0, 20).logp(14)"
   ]
  },
  {
   "cell_type": "markdown",
   "metadata": {},
   "source": [
    "Simulate data based on our generative model"
   ]
  },
  {
   "cell_type": "code",
   "execution_count": 63,
   "metadata": {},
   "outputs": [
    {
     "data": {
      "text/html": [
       "<div>\n",
       "<style scoped>\n",
       "    .dataframe tbody tr th:only-of-type {\n",
       "        vertical-align: middle;\n",
       "    }\n",
       "\n",
       "    .dataframe tbody tr th {\n",
       "        vertical-align: top;\n",
       "    }\n",
       "\n",
       "    .dataframe thead th {\n",
       "        text-align: right;\n",
       "    }\n",
       "</style>\n",
       "<table border=\"1\" class=\"dataframe\">\n",
       "  <thead>\n",
       "    <tr style=\"text-align: right;\">\n",
       "      <th></th>\n",
       "      <th>N_numu</th>\n",
       "      <th>N_nue</th>\n",
       "      <th>L</th>\n",
       "      <th>N_numu_initial</th>\n",
       "      <th>E</th>\n",
       "    </tr>\n",
       "  </thead>\n",
       "  <tbody>\n",
       "    <tr>\n",
       "      <th>0</th>\n",
       "      <td>0.001</td>\n",
       "      <td>5.719005e-08</td>\n",
       "      <td>500.0</td>\n",
       "      <td>0.001</td>\n",
       "      <td>4.675052</td>\n",
       "    </tr>\n",
       "    <tr>\n",
       "      <th>1</th>\n",
       "      <td>0.001</td>\n",
       "      <td>1.547799e-07</td>\n",
       "      <td>500.0</td>\n",
       "      <td>0.001</td>\n",
       "      <td>2.841681</td>\n",
       "    </tr>\n",
       "    <tr>\n",
       "      <th>2</th>\n",
       "      <td>0.001</td>\n",
       "      <td>3.019170e-07</td>\n",
       "      <td>500.0</td>\n",
       "      <td>0.001</td>\n",
       "      <td>2.034546</td>\n",
       "    </tr>\n",
       "    <tr>\n",
       "      <th>3</th>\n",
       "      <td>0.001</td>\n",
       "      <td>1.178858e-07</td>\n",
       "      <td>500.0</td>\n",
       "      <td>0.001</td>\n",
       "      <td>3.256171</td>\n",
       "    </tr>\n",
       "    <tr>\n",
       "      <th>4</th>\n",
       "      <td>0.001</td>\n",
       "      <td>1.526942e-07</td>\n",
       "      <td>500.0</td>\n",
       "      <td>0.001</td>\n",
       "      <td>2.861025</td>\n",
       "    </tr>\n",
       "    <tr>\n",
       "      <th>5</th>\n",
       "      <td>0.001</td>\n",
       "      <td>6.616505e-08</td>\n",
       "      <td>500.0</td>\n",
       "      <td>0.001</td>\n",
       "      <td>4.346414</td>\n",
       "    </tr>\n",
       "    <tr>\n",
       "      <th>6</th>\n",
       "      <td>0.001</td>\n",
       "      <td>2.678635e-07</td>\n",
       "      <td>500.0</td>\n",
       "      <td>0.001</td>\n",
       "      <td>2.160028</td>\n",
       "    </tr>\n",
       "    <tr>\n",
       "      <th>7</th>\n",
       "      <td>0.001</td>\n",
       "      <td>1.211731e-07</td>\n",
       "      <td>500.0</td>\n",
       "      <td>0.001</td>\n",
       "      <td>3.211696</td>\n",
       "    </tr>\n",
       "    <tr>\n",
       "      <th>8</th>\n",
       "      <td>0.001</td>\n",
       "      <td>3.685789e-07</td>\n",
       "      <td>500.0</td>\n",
       "      <td>0.001</td>\n",
       "      <td>1.841350</td>\n",
       "    </tr>\n",
       "    <tr>\n",
       "      <th>9</th>\n",
       "      <td>0.001</td>\n",
       "      <td>3.813757e-07</td>\n",
       "      <td>500.0</td>\n",
       "      <td>0.001</td>\n",
       "      <td>1.810186</td>\n",
       "    </tr>\n",
       "  </tbody>\n",
       "</table>\n",
       "</div>"
      ],
      "text/plain": [
       "   N_numu         N_nue      L  N_numu_initial         E\n",
       "0   0.001  5.719005e-08  500.0           0.001  4.675052\n",
       "1   0.001  1.547799e-07  500.0           0.001  2.841681\n",
       "2   0.001  3.019170e-07  500.0           0.001  2.034546\n",
       "3   0.001  1.178858e-07  500.0           0.001  3.256171\n",
       "4   0.001  1.526942e-07  500.0           0.001  2.861025\n",
       "5   0.001  6.616505e-08  500.0           0.001  4.346414\n",
       "6   0.001  2.678635e-07  500.0           0.001  2.160028\n",
       "7   0.001  1.211731e-07  500.0           0.001  3.211696\n",
       "8   0.001  3.685789e-07  500.0           0.001  1.841350\n",
       "9   0.001  3.813757e-07  500.0           0.001  1.810186"
      ]
     },
     "execution_count": 63,
     "metadata": {},
     "output_type": "execute_result"
    }
   ],
   "source": [
    "data = generative_model(10)\n",
    "data"
   ]
  }
 ],
 "metadata": {
  "kernelspec": {
   "display_name": "Python 3",
   "language": "python",
   "name": "python3"
  },
  "language_info": {
   "codemirror_mode": {
    "name": "ipython",
    "version": 3
   },
   "file_extension": ".py",
   "mimetype": "text/x-python",
   "name": "python",
   "nbconvert_exporter": "python",
   "pygments_lexer": "ipython3",
   "version": "3.9.2"
  },
  "varInspector": {
   "cols": {
    "lenName": 16,
    "lenType": 16,
    "lenVar": 40
   },
   "kernels_config": {
    "python": {
     "delete_cmd_postfix": "",
     "delete_cmd_prefix": "del ",
     "library": "var_list.py",
     "varRefreshCmd": "print(var_dic_list())"
    },
    "r": {
     "delete_cmd_postfix": ") ",
     "delete_cmd_prefix": "rm(",
     "library": "var_list.r",
     "varRefreshCmd": "cat(var_dic_list()) "
    }
   },
   "types_to_exclude": [
    "module",
    "function",
    "builtin_function_or_method",
    "instance",
    "_Feature"
   ],
   "window_display": false
  }
 },
 "nbformat": 4,
 "nbformat_minor": 4
}
