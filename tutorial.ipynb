{
 "cells": [
  {
   "cell_type": "markdown",
   "metadata": {},
   "source": [
    "# Tutorial for BayBooNE: Baysian Booster Neutrino Experiment python package\n",
    "\n",
    "\n",
    "This package only has two objects: a log-uniform prior and a log-Jeffery's prior.\n",
    "\n",
    "Recall,\n",
    "\n",
    "$$p(x) = \\frac{1}{x_{\\mathrm{max}}-x_{\\mathrm{min}}}$$ (Uniform Prior)\n",
    "\n",
    "$$p(x) = \\frac{1}{x \\,\\ln\\left(x_{\\mathrm{max}}/x_{\\mathrm{min}}\\right)}$$ (Jeffery's Prior)\n",
    "\n",
    "Here's how to use them:"
   ]
  },
  {
   "cell_type": "code",
   "execution_count": 4,
   "metadata": {
    "collapsed": false,
    "jupyter": {
     "outputs_hidden": false
    }
   },
   "outputs": [],
   "source": [
    "import numpy as np\n",
    "import matplotlib.pyplot as plt\n",
    "import pandas as pd\n",
    "from bayboone.inference.prior import JefferysPrior, UniformPrior\n",
    "from bayboone.data_io import generative_model\n",
    "from bayboone.inference.inference_functions import do_inference"
   ]
  },
  {
   "cell_type": "markdown",
   "metadata": {},
   "source": [
    "Simulate data based on our generative model"
   ]
  },
  {
   "cell_type": "code",
   "execution_count": 8,
   "metadata": {},
   "outputs": [
    {
     "data": {
      "text/html": [
       "<div>\n",
       "<style scoped>\n",
       "    .dataframe tbody tr th:only-of-type {\n",
       "        vertical-align: middle;\n",
       "    }\n",
       "\n",
       "    .dataframe tbody tr th {\n",
       "        vertical-align: top;\n",
       "    }\n",
       "\n",
       "    .dataframe thead th {\n",
       "        text-align: right;\n",
       "    }\n",
       "</style>\n",
       "<table border=\"1\" class=\"dataframe\">\n",
       "  <thead>\n",
       "    <tr style=\"text-align: right;\">\n",
       "      <th></th>\n",
       "      <th>N_numu</th>\n",
       "      <th>N_nue</th>\n",
       "      <th>L</th>\n",
       "      <th>N_numu_initial</th>\n",
       "      <th>E</th>\n",
       "    </tr>\n",
       "  </thead>\n",
       "  <tbody>\n",
       "    <tr>\n",
       "      <th>0</th>\n",
       "      <td>0.001000</td>\n",
       "      <td>1.334595e-07</td>\n",
       "      <td>500.0</td>\n",
       "      <td>0.001</td>\n",
       "      <td>3.060278</td>\n",
       "    </tr>\n",
       "    <tr>\n",
       "      <th>1</th>\n",
       "      <td>0.001000</td>\n",
       "      <td>3.395575e-07</td>\n",
       "      <td>500.0</td>\n",
       "      <td>0.001</td>\n",
       "      <td>1.918444</td>\n",
       "    </tr>\n",
       "    <tr>\n",
       "      <th>2</th>\n",
       "      <td>0.000994</td>\n",
       "      <td>6.416825e-06</td>\n",
       "      <td>500.0</td>\n",
       "      <td>0.001</td>\n",
       "      <td>0.440414</td>\n",
       "    </tr>\n",
       "    <tr>\n",
       "      <th>3</th>\n",
       "      <td>0.001000</td>\n",
       "      <td>2.176104e-07</td>\n",
       "      <td>500.0</td>\n",
       "      <td>0.001</td>\n",
       "      <td>2.396534</td>\n",
       "    </tr>\n",
       "    <tr>\n",
       "      <th>4</th>\n",
       "      <td>0.001000</td>\n",
       "      <td>1.214617e-07</td>\n",
       "      <td>500.0</td>\n",
       "      <td>0.001</td>\n",
       "      <td>3.207877</td>\n",
       "    </tr>\n",
       "    <tr>\n",
       "      <th>5</th>\n",
       "      <td>0.001000</td>\n",
       "      <td>4.353962e-07</td>\n",
       "      <td>500.0</td>\n",
       "      <td>0.001</td>\n",
       "      <td>1.694141</td>\n",
       "    </tr>\n",
       "    <tr>\n",
       "      <th>6</th>\n",
       "      <td>0.001000</td>\n",
       "      <td>2.332565e-07</td>\n",
       "      <td>500.0</td>\n",
       "      <td>0.001</td>\n",
       "      <td>2.314752</td>\n",
       "    </tr>\n",
       "    <tr>\n",
       "      <th>7</th>\n",
       "      <td>0.001000</td>\n",
       "      <td>6.239030e-08</td>\n",
       "      <td>500.0</td>\n",
       "      <td>0.001</td>\n",
       "      <td>4.475973</td>\n",
       "    </tr>\n",
       "    <tr>\n",
       "      <th>8</th>\n",
       "      <td>0.000999</td>\n",
       "      <td>7.436539e-07</td>\n",
       "      <td>500.0</td>\n",
       "      <td>0.001</td>\n",
       "      <td>1.296170</td>\n",
       "    </tr>\n",
       "    <tr>\n",
       "      <th>9</th>\n",
       "      <td>0.000999</td>\n",
       "      <td>6.311257e-07</td>\n",
       "      <td>500.0</td>\n",
       "      <td>0.001</td>\n",
       "      <td>1.407037</td>\n",
       "    </tr>\n",
       "  </tbody>\n",
       "</table>\n",
       "</div>"
      ],
      "text/plain": [
       "     N_numu         N_nue      L  N_numu_initial         E\n",
       "0  0.001000  1.334595e-07  500.0           0.001  3.060278\n",
       "1  0.001000  3.395575e-07  500.0           0.001  1.918444\n",
       "2  0.000994  6.416825e-06  500.0           0.001  0.440414\n",
       "3  0.001000  2.176104e-07  500.0           0.001  2.396534\n",
       "4  0.001000  1.214617e-07  500.0           0.001  3.207877\n",
       "5  0.001000  4.353962e-07  500.0           0.001  1.694141\n",
       "6  0.001000  2.332565e-07  500.0           0.001  2.314752\n",
       "7  0.001000  6.239030e-08  500.0           0.001  4.475973\n",
       "8  0.000999  7.436539e-07  500.0           0.001  1.296170\n",
       "9  0.000999  6.311257e-07  500.0           0.001  1.407037"
      ]
     },
     "execution_count": 8,
     "metadata": {},
     "output_type": "execute_result"
    }
   ],
   "source": [
    "data = generative_model(10)\n",
    "data"
   ]
  },
  {
   "cell_type": "markdown",
   "metadata": {},
   "source": [
    "Infer $\\Delta m^2$ and $sin^2 2\\theta$ from the data created by our model."
   ]
  },
  {
   "cell_type": "code",
   "execution_count": 9,
   "metadata": {},
   "outputs": [
    {
     "data": {
      "text/html": [
       "\n",
       "    <div>\n",
       "        <style>\n",
       "            /* Turns off some styling */\n",
       "            progress {\n",
       "                /* gets rid of default border in Firefox and Opera. */\n",
       "                border: none;\n",
       "                /* Needs to be in here for Safari polyfill so background images work as expected. */\n",
       "                background-size: auto;\n",
       "            }\n",
       "            .progress-bar-interrupted, .progress-bar-interrupted::-webkit-progress-bar {\n",
       "                background: #F44336;\n",
       "            }\n",
       "        </style>\n",
       "      <progress value='1' class='' max='1' style='width:300px; height:20px; vertical-align: middle;'></progress>\n",
       "      100.00% [1/1 00:00<00:00 logp = 4.6052, ||grad|| = 0]\n",
       "    </div>\n",
       "    "
      ],
      "text/plain": [
       "<IPython.core.display.HTML object>"
      ]
     },
     "metadata": {},
     "output_type": "display_data"
    },
    {
     "name": "stdout",
     "output_type": "stream",
     "text": [
      "\n",
      "              value  uncertainty\n",
      "sin^2_2theta  0.100     1.825742\n",
      "delta_m^2     0.001     1.825742\n"
     ]
    },
    {
     "data": {
      "image/png": "[encoded data removed]",
      "text/plain": [
       "<Figure size 432x288 with 1 Axes>"
      ]
     },
     "metadata": {
      "needs_background": "light"
     },
     "output_type": "display_data"
    }
   ],
   "source": [
    "do_inference(data)"
   ]
  },
  {
   "cell_type": "code",
   "execution_count": null,
   "metadata": {},
   "outputs": [],
   "source": []
  }
 ],
 "metadata": {
  "kernelspec": {
   "display_name": "Python 3",
   "language": "python",
   "name": "python3"
  },
  "language_info": {
   "codemirror_mode": {
    "name": "ipython",
    "version": 3
   },
   "file_extension": ".py",
   "mimetype": "text/x-python",
   "name": "python",
   "nbconvert_exporter": "python",
   "pygments_lexer": "ipython3",
   "version": "3.9.2"
  },
  "varInspector": {
   "cols": {
    "lenName": 16,
    "lenType": 16,
    "lenVar": 40
   },
   "kernels_config": {
    "python": {
     "delete_cmd_postfix": "",
     "delete_cmd_prefix": "del ",
     "library": "var_list.py",
     "varRefreshCmd": "print(var_dic_list())"
    },
    "r": {
     "delete_cmd_postfix": ") ",
     "delete_cmd_prefix": "rm(",
     "library": "var_list.r",
     "varRefreshCmd": "cat(var_dic_list()) "
    }
   },
   "types_to_exclude": [
    "module",
    "function",
    "builtin_function_or_method",
    "instance",
    "_Feature"
   ],
   "window_display": false
  }
 },
 "nbformat": 4,
 "nbformat_minor": 4
}
