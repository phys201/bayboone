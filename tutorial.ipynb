{
 "cells": [
  {
   "cell_type": "markdown",
   "metadata": {},
   "source": [
    "# Tutorial for BayBooNE: Baysian Booster Neutrino Experiment python package\n",
    "\n",
    "\n",
    "This package is designed to use Bayesian parameter estimation to find sterile neutrino oscillation parameters ($\\Delta m_{14}^2, sin^2 2\\theta_{14}$) from a data sample containing initial muon neutrino flux and number of electron neutrinos detected at a particular neutrino energy.\n",
    "\n",
    "To do so, we first simulate a short-baseline neutrino oscillation dataset for a particular ($\\Delta m^2, sin^2 2\\theta$) pair, and then use a pymc3-based algorithm to infer the parameters from our simulated data."
   ]
  },
  {
   "cell_type": "code",
   "execution_count": 1,
   "metadata": {
    "collapsed": false,
    "jupyter": {
     "outputs_hidden": false
    }
   },
   "outputs": [],
   "source": [
    "import numpy as np\n",
    "import matplotlib.pyplot as plt\n",
    "import pandas as pd\n",
    "\n",
    "from bayboone.data_io import generative_model\n",
    "from bayboone.inference import module as ifunc"
   ]
  },
  {
   "cell_type": "markdown",
   "metadata": {},
   "source": [
    "## Create a sample dataset by simulating data based on our generative model.\n",
    "\n",
    "The generative model draws from known values of neutrino energy E, distance from detector L, to calculate numu to nue oscillation probability, and then adjusts for overall flux (in progress). \n",
    "\n",
    "Importantly, we use $$ P_{\\nu_{\\mu} -> \\nu_{e-}} = sin^2(2\\theta_{14})sin^2(1.27\\frac{\\Delta m^2 L}{E})$$"
   ]
  },
  {
   "cell_type": "code",
   "execution_count": 2,
   "metadata": {
    "tags": []
   },
   "outputs": [],
   "source": [
    "# To simulate a sample using the default values (n_points=100, stheta=0.5, dm=10e-5)\n",
    "# data = generative_model()\n",
    "\n",
    "# To simulate a sample with particular values\n",
    "data = generative_model(10000, 0.03, 10e-4)\n",
    "# These values were chosen to illustrate the shape of the model, rather than to be realistic"
   ]
  },
  {
   "cell_type": "markdown",
   "metadata": {},
   "source": [
    "Plot N_nue as a function of L/E - this will be entirely determined by our oscillation parameters and our systematic uncertainties (modeling of systematic uncertainties coming soon!)"
   ]
  },
  {
   "cell_type": "code",
   "execution_count": 3,
   "metadata": {},
   "outputs": [
    {
     "data": {
      "text/plain": [
       "Text(0, 0.5, 'Probability of numu -> nue')"
      ]
     },
     "execution_count": 3,
     "metadata": {},
     "output_type": "execute_result"
    },
    {
     "data": {
      "image/png": "[encoded data removed]",
      "text/plain": [
       "<Figure size 432x288 with 1 Axes>"
      ]
     },
     "metadata": {
      "needs_background": "light"
     },
     "output_type": "display_data"
    }
   ],
   "source": [
    "L_over_E = data['L'].values/data['E'].values\n",
    "plt.scatter(L_over_E, data['N_nue'], )\n",
    "plt.xlabel('L/E (m/GeV)')\n",
    "plt.ylabel('Probability of numu -> nue')"
   ]
  },
  {
   "cell_type": "markdown",
   "metadata": {},
   "source": [
    "## Infer $\\Delta m^2$ and $sin^2 2\\theta$ from the data created by our model.\n",
    "\n",
    "We make use of three functions from our inference_functions pacakge (imported here as ifunc):\n",
    "\n",
    "-  oscillation_model: sets up our model in pymc3\n",
    "-  fit_model: fits data to a statistical model of our data prediction\n",
    "-  print_fit_vals: returns the fit values and uncertainties on our parameters"
   ]
  },
  {
   "cell_type": "code",
   "execution_count": 4,
   "metadata": {},
   "outputs": [
    {
     "data": {
      "text/latex": [
       "$$\n",
       "                \\begin{array}{rcl}\n",
       "                \\text{sin^2_2theta} &\\sim & \\text{Uniform}\\\\\\text{delta_m^2} &\\sim & \\text{Uniform}\\\\\\text{prediction} &\\sim & \\text{Deterministic}\\\\\\text{nue_Flux} &\\sim & \\text{Binomial}\n",
       "                \\end{array}\n",
       "                $$"
      ],
      "text/plain": [
       "<pymc3.model.Model at 0x7f205863c520>"
      ]
     },
     "execution_count": 4,
     "metadata": {},
     "output_type": "execute_result"
    }
   ],
   "source": [
    "ifunc.oscillation_model(data)\n",
    "# nue_Flux should be drawn from a Beta distribution, but we're dealing with a problem in pymc3 \n",
    "# which prevents the code from running succesfully do to pymc3 choosing guess values excluded by the priors. "
   ]
  },
  {
   "cell_type": "code",
   "execution_count": 5,
   "metadata": {
    "tags": []
   },
   "outputs": [
    {
     "data": {
      "text/html": [
       "\n",
       "    <div>\n",
       "        <style>\n",
       "            /* Turns off some styling */\n",
       "            progress {\n",
       "                /* gets rid of default border in Firefox and Opera. */\n",
       "                border: none;\n",
       "                /* Needs to be in here for Safari polyfill so background images work as expected. */\n",
       "                background-size: auto;\n",
       "            }\n",
       "            .progress-bar-interrupted, .progress-bar-interrupted::-webkit-progress-bar {\n",
       "                background: #F44336;\n",
       "            }\n",
       "        </style>\n",
       "      <progress value='6' class='' max='6' style='width:300px; height:20px; vertical-align: middle;'></progress>\n",
       "      100.00% [6/6 00:00<00:00 logp = -8,272.5, ||grad|| = 58,155]\n",
       "    </div>\n",
       "    "
      ],
      "text/plain": [
       "<IPython.core.display.HTML object>"
      ]
     },
     "metadata": {},
     "output_type": "display_data"
    },
    {
     "name": "stdout",
     "output_type": "stream",
     "text": [
      "\n"
     ]
    }
   ],
   "source": [
    "best_fit, cov = ifunc.fit_model(data, initial_guess = {'sin^2_2theta':0.9, 'delta_m^2':.10})"
   ]
  },
  {
   "cell_type": "code",
   "execution_count": 6,
   "metadata": {},
   "outputs": [
    {
     "data": {
      "text/html": [
       "<div>\n",
       "<style scoped>\n",
       "    .dataframe tbody tr th:only-of-type {\n",
       "        vertical-align: middle;\n",
       "    }\n",
       "\n",
       "    .dataframe tbody tr th {\n",
       "        vertical-align: top;\n",
       "    }\n",
       "\n",
       "    .dataframe thead th {\n",
       "        text-align: right;\n",
       "    }\n",
       "</style>\n",
       "<table border=\"1\" class=\"dataframe\">\n",
       "  <thead>\n",
       "    <tr style=\"text-align: right;\">\n",
       "      <th></th>\n",
       "      <th>value</th>\n",
       "      <th>uncertainty</th>\n",
       "    </tr>\n",
       "  </thead>\n",
       "  <tbody>\n",
       "    <tr>\n",
       "      <th>sin^2_2theta</th>\n",
       "      <td>-0.801534</td>\n",
       "      <td>2.844748</td>\n",
       "    </tr>\n",
       "    <tr>\n",
       "      <th>delta_m^2</th>\n",
       "      <td>0.582564</td>\n",
       "      <td>4.695122</td>\n",
       "    </tr>\n",
       "  </tbody>\n",
       "</table>\n",
       "</div>"
      ],
      "text/plain": [
       "                 value  uncertainty\n",
       "sin^2_2theta -0.801534     2.844748\n",
       "delta_m^2     0.582564     4.695122"
      ]
     },
     "execution_count": 6,
     "metadata": {},
     "output_type": "execute_result"
    }
   ],
   "source": [
    "ifunc.print_fit_vals(best_fit, cov)"
   ]
  },
  {
   "cell_type": "markdown",
   "metadata": {},
   "source": [
    "There's currently a problem with pymc3 causing it to ignore the bounds of the uniform priors placed on the model parameters. For the next assignment, we'll either find a fix for the problem or use another method for developing our statistical model. We can see below just how far off the model is when is ignores the priors."
   ]
  },
  {
   "cell_type": "code",
   "execution_count": 7,
   "metadata": {},
   "outputs": [
    {
     "data": {
      "text/plain": [
       "<matplotlib.legend.Legend at 0x7f2053dcc250>"
      ]
     },
     "execution_count": 7,
     "metadata": {},
     "output_type": "execute_result"
    },
    {
     "data": {
      "image/png": "[encoded data removed]",
      "text/plain": [
       "<Figure size 432x288 with 1 Axes>"
      ]
     },
     "metadata": {
      "needs_background": "light"
     },
     "output_type": "display_data"
    }
   ],
   "source": [
    "plt.scatter(L_over_E, best_fit['prediction'] , label='model fit')\n",
    "plt.scatter(L_over_E, data['N_nue'] , label='generated data')\n",
    "\n",
    "plt.xlabel('L/E (m/GeV)')\n",
    "plt.ylabel('Probability of numu -> nue')\n",
    "plt.legend()"
   ]
  },
  {
   "cell_type": "code",
   "execution_count": 13,
   "metadata": {},
   "outputs": [
    {
     "data": {
      "text/plain": [
       "(-0.1, 0.1)"
      ]
     },
     "execution_count": 13,
     "metadata": {},
     "output_type": "execute_result"
    },
    {
     "data": {
      "image/png": "[encoded data removed]",
      "text/plain": [
       "<Figure size 432x288 with 1 Axes>"
      ]
     },
     "metadata": {
      "needs_background": "light"
     },
     "output_type": "display_data"
    }
   ],
   "source": [
    "plt.scatter(L_over_E, best_fit['prediction'] , label='model fit')\n",
    "plt.scatter(L_over_E, data['N_nue'] , label='generated data')\n",
    "\n",
    "plt.xlabel('L/E (m/GeV)')\n",
    "plt.ylabel('Probability of numu -> nue')\n",
    "plt.legend()\n",
    "ax =  plt.gca()\n",
    "ax.set_ylim(-0.1, 0.1)"
   ]
  },
  {
   "cell_type": "code",
   "execution_count": null,
   "metadata": {},
   "outputs": [],
   "source": []
  }
 ],
 "metadata": {
  "kernelspec": {
   "display_name": "Python 3",
   "language": "python",
   "name": "python3"
  },
  "language_info": {
   "codemirror_mode": {
    "name": "ipython",
    "version": 3
   },
   "file_extension": ".py",
   "mimetype": "text/x-python",
   "name": "python",
   "nbconvert_exporter": "python",
   "pygments_lexer": "ipython3",
   "version": "3.9.2"
  },
  "varInspector": {
   "cols": {
    "lenName": 16,
    "lenType": 16,
    "lenVar": 40
   },
   "kernels_config": {
    "python": {
     "delete_cmd_postfix": "",
     "delete_cmd_prefix": "del ",
     "library": "var_list.py",
     "varRefreshCmd": "print(var_dic_list())"
    },
    "r": {
     "delete_cmd_postfix": ") ",
     "delete_cmd_prefix": "rm(",
     "library": "var_list.r",
     "varRefreshCmd": "cat(var_dic_list()) "
    }
   },
   "types_to_exclude": [
    "module",
    "function",
    "builtin_function_or_method",
    "instance",
    "_Feature"
   ],
   "window_display": false
  }
 },
 "nbformat": 4,
 "nbformat_minor": 4
}
