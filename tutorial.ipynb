{
 "cells": [
  {
   "cell_type": "markdown",
   "metadata": {},
   "source": [
    "# Tutorial for BayBooNE: Baysian Booster Neutrino Experiment python package\n",
    "\n",
    "\n",
    "This package is designed to use Bayesian parameter estimation to find sterile neutrino oscillation parameters ($\\Delta m_{14}^2, sin^2 2\\theta_{14}$) from a data sample containing initial muon neutrino flux and number of electron neutrinos detected at a particular neutrino energy.\n",
    "\n",
    "To do so, we first simulate a short-baseline neutrino oscillation dataset for a particular ($\\Delta m^2, sin^2 2\\theta$) pair, and then use a pymc3-based algorithm to infer the parameters from our simulated data."
   ]
  },
  {
   "cell_type": "code",
   "execution_count": null,
   "metadata": {
    "tags": []
   },
   "outputs": [],
   "source": [
    "# Pacakge dependencies and data visualization\n",
    "import numpy as np\n",
    "import matplotlib.pyplot as plt\n",
    "import pandas as pd\n",
    "import pymc3 as pm\n",
    "import seaborn as sns\n",
    "\n",
    "# Inference package componenets\n",
    "from bayboone.data_io import Data, OscProbability\n",
    "from bayboone.inference import module as ifunc"
   ]
  },
  {
   "cell_type": "markdown",
   "metadata": {},
   "source": [
    "## Create a sample dataset by simulating data based on short baseline experiments.\n",
    "\n",
    "Our simulation draws from known values of neutrino energy E, distance from detector L, to calculate $\\nu_\\mu$ to $\\nu_e$ oscillation probability, and then adjusts for overall flux (in progress). \n",
    "\n",
    "Importantly, we use $$ P_{\\nu_{\\mu} -> \\nu_{e-}} = sin^2(2\\theta_{14})sin^2(1.27\\frac{\\Delta m^2 L}{E})$$ to get the oscillation probability, and then simulate a certain number of muon neutrinos which randomly oscillate to electron neutrinos based on the $P_{\\nu_{\\mu} -> \\nu_{e-}}$ for the neutrino.\n",
    "\n",
    "To simulate data from the microboone experiment, input the number of muon neutrinos you would like to simulate being shot at the detector (N_numu), and the oscillation parameters (ss2t, dms) into the simulate_microboone funtcion like so:"
   ]
  },
  {
   "cell_type": "code",
   "execution_count": null,
   "metadata": {
    "tags": []
   },
   "outputs": [],
   "source": [
    "N_numu = 600000\n",
    "ss2t = 0.5\n",
    "dms = 0.8\n",
    "uboone_data = Data.simulate_microboone(N_numu, ss2t, dms)"
   ]
  },
  {
   "cell_type": "markdown",
   "metadata": {},
   "source": [
    "If you would rather simulate a different neutrino experiment than microboone, you can use the simulate_detector function, where you can additionally input the baseline or how far the muon neutrinos travel (L), energy of the muon neutrinos (E), and the uncertainty on L and E."
   ]
  },
  {
   "cell_type": "code",
   "execution_count": null,
   "metadata": {},
   "outputs": [],
   "source": [
    "N_numu = 100000\n",
    "ss2t = 0.7\n",
    "dms = 10e-3\n",
    "L = 4.0 # km\n",
    "E = 1.0 # GeV\n",
    "sigma_L = 0.1\n",
    "sigma_E = 0.1\n",
    "generic_data = Data.simulate_detector(N_numu, ss2t, dms, L, E, sigma_L, sigma_E)"
   ]
  },
  {
   "cell_type": "markdown",
   "metadata": {},
   "source": [
    "Our simulation gives us the number muon neutrinos shot at the detector (N_numu) and the number of muon neutrinos that oscillated to electron neutrinos (N_Nue)"
   ]
  },
  {
   "cell_type": "code",
   "execution_count": null,
   "metadata": {},
   "outputs": [],
   "source": [
    "print('N_numu = '+str(uboone_data.N_numu)+', N_nue = '+str(uboone_data.N_nue))"
   ]
  },
  {
   "cell_type": "code",
   "execution_count": null,
   "metadata": {},
   "outputs": [],
   "source": [
    "L_array = np.linspace(0.1,1000, 100)\n",
    "plt.plot(L_array, OscProbability(ss2t, dms, L_array, E), label='Theory')\n",
    "plt.plot(200, OscProbability(ss2t, dms, 200, E), marker='o', label='Simulated data')\n",
    "plt.legend()\n",
    "plt.ylabel('Oscillation Pro')\n",
    "plt.xlabel('L')"
   ]
  },
  {
   "cell_type": "markdown",
   "metadata": {},
   "source": [
    "\n",
    "## Infer $\\Delta m^2$ and $sin^2 2\\theta$ from our simulated data.\n",
    "\n",
    "We make use of three functions from our inference_functions pacakge (imported here as ifunc):\n",
    "\n",
    "-  oscillation_model: sets up our model in pymc3\n",
    "-  fit_model: fits data to the statistical model\n",
    "-  print_fit_vals: prints the quartile intervals for the fits on our mixing parameters"
   ]
  },
  {
   "cell_type": "markdown",
   "metadata": {},
   "source": [
    "Our statistical model for predicting how many electron neutrinos appear is given by:\n",
    "\n",
    "\\begin{align}\n",
    "    sin^2(2\\theta) &\\sim \\text{Uniform(0.0001, 1)} \\\\\n",
    "    \\Delta m^2 &\\sim \\text{Jeffreys(0.01, 10)} \\\\\n",
    "    L &\\sim \\text{Truncated Normal}(\\mu = 0.5, \\sigma = 0.05) \\\\\n",
    "    E &\\sim \\text{Truncated Normal}(\\mu = 1.0, \\sigma = 0.05) \\\\\n",
    "    \\text{rate} &= \\#\\nu_{mu}sin^2(2\\theta_{14})sin^2(1.27\\frac{\\Delta m^2 L}{E}) \\\\\n",
    "    \\#\\nu_{e-} &\\sim \\text{Poisson}(\\mu = \\text{rate})\n",
    "\\end{align}\n",
    "We're treating the distributions of L and E as priors rather than known parameters due to their associated uncertainties - based on the way neutrinos beams produce neutrinos, both distance travelled and energy is variable.\n",
    "\n",
    "\n",
    "Pymc3 transforms some of these distributions for ease of computation, so the pymc3 model used is printed by the next cell."
   ]
  },
  {
   "cell_type": "code",
   "execution_count": null,
   "metadata": {},
   "outputs": [],
   "source": [
    "ifunc.oscillation_model(600000, 10)"
   ]
  },
  {
   "cell_type": "markdown",
   "metadata": {},
   "source": [
    "Now we're going to use our package to do basic MCMC inference on the neutrino mixing parameters. We'll treat L and E as nuisance parameters for this project. This example data corresponds to dms = 0.8 eV^2, ss2t = 0.5."
   ]
  },
  {
   "cell_type": "code",
   "execution_count": null,
   "metadata": {
    "tags": []
   },
   "outputs": [],
   "source": [
    "data = [60000, 2]\n",
    "trace = ifunc.fit_model(data[0], data[1])"
   ]
  },
  {
   "cell_type": "markdown",
   "metadata": {},
   "source": [
    "Now, let's take our output and look at the marginalized distributions of $sin^2(2\\theta)$ and $\\Delta m^2$"
   ]
  },
  {
   "cell_type": "code",
   "execution_count": null,
   "metadata": {},
   "outputs": [],
   "source": [
    "df_trace = pm.trace_to_dataframe(trace)\n",
    "#df_trace['delta_m^2'] = np.exp(df_trace['log_delta_m^2'])"
   ]
  },
  {
   "cell_type": "code",
   "execution_count": null,
   "metadata": {},
   "outputs": [],
   "source": [
    "joint_kde = sns.jointplot(x='delta_m^2', y='sin^2_2theta', data=df_trace, kind='scatter', s=0.2)"
   ]
  },
  {
   "cell_type": "markdown",
   "metadata": {},
   "source": [
    "As a final step, we'll take a look at the quartile intervals of the posterior distributions for our mixing parameters."
   ]
  },
  {
   "cell_type": "code",
   "execution_count": null,
   "metadata": {},
   "outputs": [],
   "source": [
    "ifunc.print_fit_vals(trace)"
   ]
  },
  {
   "cell_type": "markdown",
   "metadata": {},
   "source": [
    "While the quartile ranges for the estimates on $\\Delta m^2$ and $sin^2(2\\theta)$ include the values we used to generate data, they're so large as to not be too useful yet. This is to a large extent an effect of the high correlation between the two mixing parameters. We're working on finding an appropriate reparameterization of the model that avoids these pitfalls."
   ]
  }
 ],
 "metadata": {
  "kernelspec": {
   "display_name": "Python 3",
   "language": "python",
   "name": "python3"
  },
  "language_info": {
   "codemirror_mode": {
    "name": "ipython",
    "version": 3
   },
   "file_extension": ".py",
   "mimetype": "text/x-python",
   "name": "python",
   "nbconvert_exporter": "python",
   "pygments_lexer": "ipython3",
   "version": "3.9.2"
  },
  "varInspector": {
   "cols": {
    "lenName": 16,
    "lenType": 16,
    "lenVar": 40
   },
   "kernels_config": {
    "python": {
     "delete_cmd_postfix": "",
     "delete_cmd_prefix": "del ",
     "library": "var_list.py",
     "varRefreshCmd": "print(var_dic_list())"
    },
    "r": {
     "delete_cmd_postfix": ") ",
     "delete_cmd_prefix": "rm(",
     "library": "var_list.r",
     "varRefreshCmd": "cat(var_dic_list()) "
    }
   },
   "types_to_exclude": [
    "module",
    "function",
    "builtin_function_or_method",
    "instance",
    "_Feature"
   ],
   "window_display": false
  }
 },
 "nbformat": 4,
 "nbformat_minor": 4
}
