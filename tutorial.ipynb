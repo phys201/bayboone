{
 "cells": [
  {
   "cell_type": "markdown",
   "metadata": {},
   "source": [
    "# Tutorial for BayBooNE: Baysian Booster Neutrino Experiment python package\n",
    "\n",
    "\n",
    "This package is designed to use Bayesian parameter estimation to find sterile neutrino oscillation parameters ($\\Delta m_{14}^2, sin^2 2\\theta_{14}$) from a data sample containing initial muon neutrino flux and number of electron neutrinos detected at a particular neutrino energy.\n",
    "\n",
    "To do so, we first simulate a short-baseline neutrino oscillation dataset for a particular ($\\Delta m^2, sin^2 2\\theta$) pair, and then use a pymc3-based algorithm to infer the parameters from our simulated data."
   ]
  },
  {
   "cell_type": "code",
   "execution_count": null,
   "metadata": {
    "tags": []
   },
   "outputs": [],
   "source": [
    "# Pacakge dependencies and data visualization\n",
    "import numpy as np\n",
    "import matplotlib.pyplot as plt\n",
    "import pandas as pd\n",
    "import pymc3 as pm\n",
    "import seaborn as sns\n",
    "import arviz as az\n",
    "\n",
    "# Inference package componenets\n",
    "from bayboone.data_io import Data, OscProbability\n",
    "from bayboone.inference import module as ifunc"
   ]
  },
  {
   "cell_type": "markdown",
   "metadata": {},
   "source": [
    "## Create a sample dataset by simulating data based on short baseline experiments.\n",
    "\n",
    "Our simulation draws from known values of neutrino energy $E$ and distance from detector $L$ to calculate $\\nu_\\mu$ to $\\nu_e$ oscillation probability, and then adjusts for overall flux (in progress). \n",
    "\n",
    "Importantly, we use $$ P_{\\nu_{\\mu} -> \\nu_{e-}} = sin^2(2\\theta_{14})sin^2(1.27\\frac{\\Delta m^2 L}{E})$$ to get the oscillation probability, and then simulate a certain number of muon neutrinos which randomly oscillate to electron neutrinos based on the $P_{\\nu_{\\mu} -> \\nu_{e-}}$ for the neutrino.\n",
    "\n",
    "To simulate a neutrino experiment, you can use the simulate_detector function, where you can specify the oscillation parameters, the number of muon neutrinos per energy bin, the energy bin edges, the baseline (muon neutrino travel distance $L$), and the uncertainty on $L$."
   ]
  },
  {
   "cell_type": "code",
   "execution_count": null,
   "metadata": {},
   "outputs": [],
   "source": [
    "ss2t = 0.7\n",
    "dms = 10e-3\n",
    "N_numu = np.array([100, 1000, 10000, 100000])\n",
    "E = np.array([.1, 0.5, 1.0, 2.0, 3.0]) # GeV\n",
    "L = 4.0 # km\n",
    "sigma_L = 0.1\n",
    "sigma_E = 0.1\n",
    "generic_data = Data.simulate_detector(ss2t, dms, N_numu, E, L, sigma_L)"
   ]
  },
  {
   "cell_type": "markdown",
   "metadata": {},
   "source": [
    "Our simulation gives us the number muon neutrinos shot at the detector for a given energy bin (N_numu) and the number of muon neutrinos that oscillated to electron neutrinos given that energy bin (N_Nue)."
   ]
  },
  {
   "cell_type": "code",
   "execution_count": null,
   "metadata": {},
   "outputs": [],
   "source": [
    "print(generic_data)"
   ]
  },
  {
   "cell_type": "markdown",
   "metadata": {},
   "source": [
    "To simulate data from the microboone experiment, you can use the default arguments for everything but the oscillation parameters like so:"
   ]
  },
  {
   "cell_type": "code",
   "execution_count": null,
   "metadata": {},
   "outputs": [],
   "source": [
    "ss2t = 0.5\n",
    "dms = 0.8\n",
    "uboone_data = Data.simulate_detector(ss2t, dms)\n",
    "print(uboone_data)"
   ]
  },
  {
   "cell_type": "markdown",
   "metadata": {},
   "source": [
    "Below, we plot the theoretical oscillation probability from which we simulated our data, and display a point in that curve our simulated data represents."
   ]
  },
  {
   "cell_type": "code",
   "execution_count": null,
   "metadata": {},
   "outputs": [],
   "source": [
    "L_array = np.linspace(0.1,1000, 100)\n",
    "plt.plot(L_array, OscProbability(ss2t, dms, L_array, 3.5), label='Theory')\n",
    "plt.plot(200, OscProbability(ss2t, dms, 200, 3.5), marker='o', label='Simulated data')\n",
    "plt.legend()\n",
    "plt.ylabel('Oscillation Pro')\n",
    "plt.xlabel('L')"
   ]
  },
  {
   "cell_type": "markdown",
   "metadata": {},
   "source": [
    "You can also simulate data from a single energy bin, by inputing an integer and float for N_numu and E:"
   ]
  },
  {
   "cell_type": "code",
   "execution_count": null,
   "metadata": {},
   "outputs": [],
   "source": [
    "single_E_data = Data.simulate_detector(ss2t, dms, 100, 1.0)\n",
    "print(single_E_data)"
   ]
  },
  {
   "cell_type": "markdown",
   "metadata": {},
   "source": [
    "Lastly, you can input the number of electron neutrinos seen yourself to further test the parameter space: "
   ]
  },
  {
   "cell_type": "code",
   "execution_count": null,
   "metadata": {},
   "outputs": [],
   "source": [
    "N_numu = 1000\n",
    "N_nue = 10\n",
    "E = 1.0\n",
    "hardcoded_data = Data(N_numu, N_nue, E)\n",
    "print(hardcoded_data)"
   ]
  },
  {
   "cell_type": "markdown",
   "metadata": {},
   "source": [
    "\n",
    "## Infer $\\Delta m^2$ and $sin^2 2\\theta$ from our simulated data.\n",
    "\n",
    "We make use of three functions from our inference_functions pacakge (imported here as ifunc):\n",
    "\n",
    "-  oscillation_model: sets up our model in pymc3\n",
    "-  fit_model: fits data to the statistical model\n",
    "-  print_fit_vals: prints the quartile intervals for the fits on our mixing parameters"
   ]
  },
  {
   "cell_type": "markdown",
   "metadata": {},
   "source": [
    "Our statistical model for predicting how many electron neutrinos appear is given by:\n",
    "\n",
    "\\begin{align}\n",
    "    sin^2(2\\theta) &\\sim \\text{Truncated Normal}(\\mu = \\text{estimated } sin^2(2\\theta), \\sigma = 0.1) \\\\\n",
    "    \\Delta m^2 &\\sim \\text{Truncated Normal}(\\mu = \\text{estimated }\\Delta m^2, \\sigma = 0.1) \\\\\n",
    "    L &\\sim \\text{Truncated Normal}(\\mu = 0.5, \\sigma = 0.05) \\\\\n",
    "    E &\\sim \\text{Truncated Normal}(\\mu = 1.0, \\sigma = 0.05) \\\\\n",
    "    \\text{rate} &= \\#\\nu_{mu}sin^2(2\\theta_{14})sin^2(1.27\\frac{\\Delta m^2 L}{E}) \\\\\n",
    "    \\#\\nu_{e-} &\\sim \\text{Poisson}(\\mu = \\text{rate})\n",
    "\\end{align}\n",
    "We're treating the distributions of L and E as priors rather than known parameters due to their associated uncertainties - based on the way neutrinos beams produce neutrinos, both distance travelled and energy is variable.\n",
    "\n",
    "In this version of the model, $sin^2(2\\theta)$ and $\\Delta m^2$ are drawn from truncated Gaussians around estimated values of each parameter. At the moment, the default values have been chosen to produce large oscillations for demonstrative purposes. The intention is that these parameters be chosen after review of estimates by previous experiments on sterile neutrino oscillation. This allows each region of ($sin^2(2\\theta)$, $\\Delta m^2$) parameter space to be treated as an independent model, a method well-suited to addressing the \"islands\" of probable values that have been produced by previous frequentist analyses of this problem.\n",
    "\n",
    "Pymc3 transforms some of these distributions for ease of computation, so the pymc3 model used is printed by the next cell."
   ]
  },
  {
   "cell_type": "code",
   "execution_count": null,
   "metadata": {},
   "outputs": [],
   "source": [
    "osc_model = ifunc.oscillation_model(600000, 10)"
   ]
  },
  {
   "cell_type": "markdown",
   "metadata": {},
   "source": [
    "Now we're going to use our package to do basic MCMC inference on the neutrino mixing parameters. We'll treat $L$ and $E$ as nuisance parameters for this project. This example data corresponds to $\\Delta m^2 = 0.8 eV^2$, $sin^2(2\\theta) = 0.5$."
   ]
  },
  {
   "cell_type": "code",
   "execution_count": null,
   "metadata": {
    "tags": []
   },
   "outputs": [],
   "source": [
    "data = Data(60000, 2) \n",
    "trace = ifunc.fit_model(data.N_numu, data.N_nue)"
   ]
  },
  {
   "cell_type": "markdown",
   "metadata": {},
   "source": [
    "Now, let's take our output and look at the marginalized distributions of $sin^2(2\\theta)$ and $\\Delta m^2$"
   ]
  },
  {
   "cell_type": "code",
   "execution_count": null,
   "metadata": {},
   "outputs": [],
   "source": [
    "az.plot_trace(trace)"
   ]
  },
  {
   "cell_type": "code",
   "execution_count": null,
   "metadata": {},
   "outputs": [],
   "source": [
    "df_trace = pm.trace_to_dataframe(trace)"
   ]
  },
  {
   "cell_type": "code",
   "execution_count": null,
   "metadata": {},
   "outputs": [],
   "source": [
    "joint_kde = sns.jointplot(x='delta_m^2', y='sin^2_2theta', data=df_trace, kind='scatter', s=0.2)"
   ]
  },
  {
   "cell_type": "markdown",
   "metadata": {},
   "source": [
    "As a final step, we'll take a look at the quartile intervals of the posterior distributions for our mixing parameters."
   ]
  },
  {
   "cell_type": "code",
   "execution_count": null,
   "metadata": {},
   "outputs": [],
   "source": [
    "ifunc.print_fit_vals(trace)"
   ]
  },
  {
   "cell_type": "markdown",
   "metadata": {},
   "source": [
    "The quartile ranges for the estimates on $\\Delta m^2$ and $sin^2(2\\theta)$ include the values we used to generate data, which is a positive indication. However, keep in mind that this fake-data sample was generated with the same mixing parameters as we've chosen as the means for our priors on $\\Delta m^2$ and $sin^2(2\\theta)$, so this is expected. Using real data is expected to produce messier results."
   ]
  },
  {
   "cell_type": "code",
   "execution_count": null,
   "metadata": {},
   "outputs": [],
   "source": []
  }
 ],
 "metadata": {
  "kernelspec": {
   "display_name": "Python 3",
   "language": "python",
   "name": "python3"
  },
  "language_info": {
   "codemirror_mode": {
    "name": "ipython",
    "version": 3
   },
   "file_extension": ".py",
   "mimetype": "text/x-python",
   "name": "python",
   "nbconvert_exporter": "python",
   "pygments_lexer": "ipython3",
   "version": "3.9.2"
  },
  "varInspector": {
   "cols": {
    "lenName": 16,
    "lenType": 16,
    "lenVar": 40
   },
   "kernels_config": {
    "python": {
     "delete_cmd_postfix": "",
     "delete_cmd_prefix": "del ",
     "library": "var_list.py",
     "varRefreshCmd": "print(var_dic_list())"
    },
    "r": {
     "delete_cmd_postfix": ") ",
     "delete_cmd_prefix": "rm(",
     "library": "var_list.r",
     "varRefreshCmd": "cat(var_dic_list()) "
    }
   },
   "types_to_exclude": [
    "module",
    "function",
    "builtin_function_or_method",
    "instance",
    "_Feature"
   ],
   "window_display": false
  }
 },
 "nbformat": 4,
 "nbformat_minor": 4
}
